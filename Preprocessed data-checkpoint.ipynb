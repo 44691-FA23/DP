{
 "cells": [
  {
   "cell_type": "code",
   "execution_count": null,
   "id": "085610b6",
   "metadata": {},
   "outputs": [],
   "source": [
    "import os\n",
    "import numpy as np\n",
    "import matplotlib.pyplot as plt\n",
    "from PIL import Image\n",
    "folder_path = 'C:\\Users\\s554991\\Downloads\\archive (11)'\n",
    "for filename in os.listdir(C:\\Users\\s554991\\Downloads\\archive (11)):\n",
    "    if filename.endswith(('.jpg', '.png', '.jpeg')):\n",
    "        image_path = os.path.join(C:\\Users\\s554991\\Downloads\\archive (11), archive (11))\n",
    "        image = Image.open(C:\\Users\\s554991\\Downloads\\archive (11)\\malaria cells)\n",
    "        new_size = (100, 100)\n",
    "        resized_image = image.resize(new_size)\n",
    "        image_array = np.array(resized_image)\n",
    "        normalized_image = image_array / 255.0\n",
    "if image is None:\n",
    "    print(\"Error: Unable to load image.\")\n",
    "else:\n",
    "   save_path = os.path.join('preprocessed_images', archive (11))\n",
    "    normalized_image = (normalized_image * 255).astype(np.uint8)\n",
    "        new_image = Image.fromarray(normalized_image)\n",
    "        new_image.save(C:\\Users\\s554991\\Downloads\\Preprocessed Image data)"
   ]
  }
 ],
 "metadata": {
  "kernelspec": {
   "display_name": "Python 3 (ipykernel)",
   "language": "python",
   "name": "python3"
  },
  "language_info": {
   "codemirror_mode": {
    "name": "ipython",
    "version": 3
   },
   "file_extension": ".py",
   "mimetype": "text/x-python",
   "name": "python",
   "nbconvert_exporter": "python",
   "pygments_lexer": "ipython3",
   "version": "3.11.4"
  }
 },
 "nbformat": 4,
 "nbformat_minor": 5
}
